{
 "cells": [
  {
   "cell_type": "markdown",
   "id": "56224edd",
   "metadata": {},
   "source": [
    "# if statement"
   ]
  },
  {
   "cell_type": "code",
   "execution_count": 1,
   "id": "29281e14",
   "metadata": {},
   "outputs": [],
   "source": [
    "a=10\n",
    "b=20\n"
   ]
  },
  {
   "cell_type": "code",
   "execution_count": 2,
   "id": "7b5c3ab7",
   "metadata": {},
   "outputs": [
    {
     "name": "stdout",
     "output_type": "stream",
     "text": [
      "b is grater than a\n"
     ]
    }
   ],
   "source": [
    "if a<b:\n",
    "    print('b is grater than a')\n",
    "else:\n",
    "    print('a is grater than b')\n",
    "    "
   ]
  },
  {
   "cell_type": "code",
   "execution_count": 9,
   "id": "244f7d24",
   "metadata": {},
   "outputs": [
    {
     "name": "stdout",
     "output_type": "stream",
     "text": [
      "enter the first number0\n",
      "this is a negative number\n"
     ]
    }
   ],
   "source": [
    "x=int (input('enter the first number'))\n",
    "\n",
    "\n",
    "\n",
    "if x>0:\n",
    "    print('this number is  positive')\n",
    "else:\n",
    "    print('this is a negative number')\n",
    "    \n",
    "    "
   ]
  },
  {
   "cell_type": "code",
   "execution_count": 13,
   "id": "20b30a73",
   "metadata": {},
   "outputs": [
    {
     "name": "stdout",
     "output_type": "stream",
     "text": [
      "enter the number7\n",
      "this is a odd number\n"
     ]
    }
   ],
   "source": [
    "z=int (input('enter the number'))\n",
    "if (z%2)==0:\n",
    "    print('this is a even number')\n",
    "else:\n",
    "     print('this is a odd number')\n"
   ]
  },
  {
   "cell_type": "code",
   "execution_count": 15,
   "id": "c5fccd46",
   "metadata": {},
   "outputs": [
    {
     "name": "stdout",
     "output_type": "stream",
     "text": [
      "enter ur total bill amound10000\n",
      "ur discnt amt is 9980\n"
     ]
    }
   ],
   "source": [
    "k=int (input('enter ur total bill amound'))\n",
    "if k>=1000:\n",
    "    x=10*2\n",
    "    s=k-x\n",
    "    print('ur discnt amt is',s)\n",
    "else:\n",
    "    print('u have no discound')\n",
    "    "
   ]
  },
  {
   "cell_type": "code",
   "execution_count": 16,
   "id": "1f8c2c09",
   "metadata": {},
   "outputs": [
    {
     "name": "stdout",
     "output_type": "stream",
     "text": [
      "enter the number10\n",
      "the number is a multiple of 5\n"
     ]
    }
   ],
   "source": [
    "z=int (input('enter the number'))\n",
    "if z%5==0:\n",
    "    print('the number is a multiple of 5')\n",
    "else:\n",
    "    print('not multiple of 5')\n",
    "    "
   ]
  },
  {
   "cell_type": "code",
   "execution_count": null,
   "id": "fa12bc98",
   "metadata": {},
   "outputs": [],
   "source": []
  }
 ],
 "metadata": {
  "kernelspec": {
   "display_name": "Python 3 (ipykernel)",
   "language": "python",
   "name": "python3"
  },
  "language_info": {
   "codemirror_mode": {
    "name": "ipython",
    "version": 3
   },
   "file_extension": ".py",
   "mimetype": "text/x-python",
   "name": "python",
   "nbconvert_exporter": "python",
   "pygments_lexer": "ipython3",
   "version": "3.9.12"
  }
 },
 "nbformat": 4,
 "nbformat_minor": 5
}
